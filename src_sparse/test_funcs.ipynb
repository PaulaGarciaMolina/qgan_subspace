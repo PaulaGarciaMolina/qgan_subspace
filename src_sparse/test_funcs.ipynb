{
 "cells": [
  {
   "cell_type": "code",
   "execution_count": 15,
   "id": "ce919ca8",
   "metadata": {},
   "outputs": [],
   "source": [
    "from qgan.ancilla import get_max_entangled_state_with_ancilla_if_needed\n",
    "from config import CFG\n",
    "\n",
    "size = CFG.system_size\n",
    "s1, s2 = get_max_entangled_state_with_ancilla_if_needed(size)"
   ]
  },
  {
   "cell_type": "code",
   "execution_count": 16,
   "id": "a150820f",
   "metadata": {},
   "outputs": [],
   "source": [
    "from qgan.target import get_final_target_state\n",
    "\n",
    "sf = get_final_target_state(s1)"
   ]
  },
  {
   "cell_type": "code",
   "execution_count": 17,
   "id": "a5c8d582",
   "metadata": {},
   "outputs": [
    {
     "name": "stdout",
     "output_type": "stream",
     "text": [
      "(64, 1) (64, 1)\n"
     ]
    }
   ],
   "source": [
    "print(s1.shape, sf.shape)"
   ]
  },
  {
   "cell_type": "code",
   "execution_count": null,
   "id": "79052a15",
   "metadata": {},
   "outputs": [],
   "source": []
  }
 ],
 "metadata": {
  "kernelspec": {
   "display_name": "qgan",
   "language": "python",
   "name": "python3"
  },
  "language_info": {
   "codemirror_mode": {
    "name": "ipython",
    "version": 3
   },
   "file_extension": ".py",
   "mimetype": "text/x-python",
   "name": "python",
   "nbconvert_exporter": "python",
   "pygments_lexer": "ipython3",
   "version": "3.13.5"
  }
 },
 "nbformat": 4,
 "nbformat_minor": 5
}
