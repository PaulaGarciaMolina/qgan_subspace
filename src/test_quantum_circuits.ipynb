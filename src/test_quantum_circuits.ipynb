{
 "cells": [
  {
   "cell_type": "markdown",
   "id": "d1bef23c",
   "metadata": {},
   "source": [
    "# Test quantum circuits\n",
    "\n",
    "This Jupyter notebook compares the original and Pennylane version of the generaton quantum circuit ansätze to assure the equivalence of both approaches."
   ]
  },
  {
   "cell_type": "code",
   "execution_count": 40,
   "id": "5d261955",
   "metadata": {},
   "outputs": [],
   "source": [
    "from config import CFG\n",
    "import itertools\n",
    "import pennylane as qml\n",
    "import numpy as np\n",
    "from test_qc.ansatz import Ansatz_ZZ_X_Z, Ansatz_XX_YY_ZZ_Z\n",
    "from test_qc.qgates import Identity\n",
    "from config import CFG"
   ]
  },
  {
   "cell_type": "markdown",
   "id": "e1fc50ac",
   "metadata": {},
   "source": [
    "## 1. ZZ_X_Z circuit"
   ]
  },
  {
   "cell_type": "markdown",
   "id": "1c4e6271",
   "metadata": {},
   "source": [
    "### 1.1. Original circuit"
   ]
  },
  {
   "cell_type": "code",
   "execution_count": 27,
   "id": "8162c7bb",
   "metadata": {},
   "outputs": [],
   "source": [
    "class ZZ_X_Z_circuit:\n",
    "    def __init__(self, size: int, layer: int, device_name=\"default.qubit\", config=None, theta=None):\n",
    "        self.size = size\n",
    "        self.n_qubits = self.size\n",
    "        self.layer = layer\n",
    "        self.config = config or self.default_config()\n",
    "        self.device = qml.device(device_name, wires=self.n_qubits)\n",
    "        self.n_params = self.count_n_params()\n",
    "        if theta is None:\n",
    "            self.theta = np.random.rand(self.n_params)\n",
    "        else:\n",
    "            self.thet = theta\n",
    "        self.qnode = qml.QNode(self.circuit, self.device, interface=\"auto\")  # torch or auto\n",
    "\n",
    "    def default_config(self):\n",
    "        class CFG:\n",
    "            extra_ancilla = True\n",
    "            do_ancilla_1q_gates = True\n",
    "            ancilla_topology = \"total\"  # \"total\", \"bridge\", or \"ansatz\"\n",
    "            ancilla_connect_to = None\n",
    "        return CFG()\n",
    "\n",
    "    def count_n_params(self):\n",
    "        n_params = 0\n",
    "        base_size = self.size - 1 if self.config.extra_ancilla else self.size\n",
    "\n",
    "        # 1-qubit RX and RZ\n",
    "        n_params += self.size * 2\n",
    "\n",
    "        if self.config.extra_ancilla and self.config.do_ancilla_1q_gates:\n",
    "            n_params += 2  # for ancilla\n",
    "\n",
    "        # 2-qubit ZZ between neighbors\n",
    "        n_params += base_size - 1\n",
    "\n",
    "        if self.config.extra_ancilla:\n",
    "            if self.config.ancilla_topology == \"total\":\n",
    "                n_params += base_size\n",
    "            if self.config.ancilla_topology == \"bridge\":\n",
    "                n_params += 1\n",
    "            if self.config.ancilla_topology in [\"bridge\", \"ansatz\"]:\n",
    "                n_params += 1\n",
    "\n",
    "        return n_params * self.layer\n",
    "\n",
    "    def circuit(self, theta, initial_state):\n",
    "        qml.StatePrep(initial_state, wires=range(self.n_qubits))\n",
    "        base_size = self.size - 1 if self.config.extra_ancilla else self.size\n",
    "        ancilla_wire = base_size  # if extra ancilla is enabled\n",
    "\n",
    "        idx = 0\n",
    "        for _ in range(self.layer):\n",
    "            for i in range(base_size):\n",
    "                qml.RX(theta[idx], wires=i)\n",
    "                idx += 1\n",
    "                qml.RZ(theta[idx], wires=i)\n",
    "                idx += 1\n",
    "\n",
    "            if self.config.extra_ancilla and self.config.do_ancilla_1q_gates:\n",
    "                qml.RX(theta[idx], wires=ancilla_wire-1)\n",
    "                idx += 1\n",
    "                qml.RZ(theta[idx], wires=ancilla_wire-1)\n",
    "                idx += 1\n",
    "\n",
    "            for i in range(base_size - 1):\n",
    "                qml.IsingZZ(-theta[idx], wires=[i, i + 1])\n",
    "                idx += 1\n",
    "\n",
    "            if self.config.extra_ancilla:\n",
    "                if self.config.ancilla_topology == \"total\":\n",
    "                    for i in range(base_size):\n",
    "                        qml.IsingZZ(-theta[idx], wires=[i, ancilla_wire])\n",
    "                        idx += 1\n",
    "                if self.config.ancilla_topology == \"bridge\":\n",
    "                    qml.IsingZZ(-theta[idx], wires=[0, ancilla_wire])\n",
    "                    idx += 1\n",
    "                if self.config.ancilla_topology in [\"bridge\", \"ansatz\"]:\n",
    "                    target = self.config.ancilla_connect_to or base_size - 1\n",
    "                    qml.IsingZZ(-theta[idx], wires=[target, ancilla_wire])\n",
    "                    idx += 1\n",
    "        return qml.state()\n",
    "\n",
    "    def run(self, initial_state, theta=None):\n",
    "        theta = theta if theta is not None else self.theta\n",
    "        return self.qnode(theta, initial_state)\n"
   ]
  },
  {
   "cell_type": "code",
   "execution_count": 28,
   "id": "49692ad6",
   "metadata": {},
   "outputs": [],
   "source": [
    "def create_ghz_state_vector(num_qubits):\n",
    "    # The dimension of the Hilbert space is 2^num_qubits\n",
    "    dimension = 2**num_qubits\n",
    "    # Initialize a zero vector of the correct dimension\n",
    "    ghz_state = np.zeros(dimension, dtype=complex)\n",
    "    # Set the amplitudes for the |00...0> and |11...1> states\n",
    "    # The index for |00...0> is 0\n",
    "    ghz_state[0] = 1 / np.sqrt(2)\n",
    "    # The index for |11...1> is 2^num_qubits - 1\n",
    "    ghz_state[dimension - 1] = 1 / np.sqrt(2)\n",
    "    return ghz_state"
   ]
  },
  {
   "cell_type": "code",
   "execution_count": 29,
   "id": "a8ec03a1",
   "metadata": {},
   "outputs": [],
   "source": [
    "# Define a maximally entangled 4-qubit state for testing\n",
    "size = CFG.system_size\n",
    "layers = CFG.gen_layers\n",
    "initial_state = create_ghz_state_vector(size)"
   ]
  },
  {
   "cell_type": "markdown",
   "id": "08316620",
   "metadata": {},
   "source": [
    "- Original"
   ]
  },
  {
   "cell_type": "code",
   "execution_count": 30,
   "id": "b2f0d45a",
   "metadata": {},
   "outputs": [
    {
     "name": "stdout",
     "output_type": "stream",
     "text": [
      "[ 0.11402499-0.28696683j -0.38430068+0.09898358j -0.40946981-0.1169808j\n",
      "  0.10142516+0.19085783j -0.17826996-0.23588362j -0.17996919+0.09606368j\n",
      "  0.07513894+0.33365511j -0.51513312-0.08790705j]\n"
     ]
    }
   ],
   "source": [
    "ansatz = Ansatz_ZZ_X_Z(config=CFG)\n",
    "np.random.seed(42)\n",
    "theta = np.random.rand(ansatz.n_params)\n",
    "circuit = ansatz.construct_qcircuit_ZZ_X_Z(theta=theta).get_mat_rep()\n",
    "state = np.asarray(circuit @ initial_state)[0]\n",
    "print(state)"
   ]
  },
  {
   "cell_type": "markdown",
   "id": "d258ce6e",
   "metadata": {},
   "source": [
    "- Pennylane"
   ]
  },
  {
   "cell_type": "code",
   "execution_count": 31,
   "id": "ed865ad9",
   "metadata": {},
   "outputs": [
    {
     "name": "stdout",
     "output_type": "stream",
     "text": [
      "[ 0.11402499-0.28696683j -0.38430068+0.09898358j -0.40946981-0.1169808j\n",
      "  0.10142516+0.19085783j -0.17826996-0.23588362j -0.17996919+0.09606368j\n",
      "  0.07513894+0.33365511j -0.51513312-0.08790705j]\n"
     ]
    }
   ],
   "source": [
    "# Define a maximally entangled 4-qubit state for testing\n",
    "size = CFG.system_size\n",
    "layers = CFG.gen_layers\n",
    "\n",
    "model = ZZ_X_Z_circuit(size=size, layer=layers, config=CFG)\n",
    "out_state = model.run(initial_state, theta=theta)\n",
    "print(out_state)"
   ]
  },
  {
   "cell_type": "code",
   "execution_count": 32,
   "id": "ea0876d0",
   "metadata": {},
   "outputs": [
    {
     "name": "stdout",
     "output_type": "stream",
     "text": [
      "Pennylane == original is True\n"
     ]
    }
   ],
   "source": [
    "print('Pennylane == original is', np.allclose(state, out_state))"
   ]
  },
  {
   "cell_type": "markdown",
   "id": "46c7756a",
   "metadata": {},
   "source": [
    "### 1.2. Extended circuit"
   ]
  },
  {
   "cell_type": "code",
   "execution_count": 33,
   "id": "3b9c521c",
   "metadata": {},
   "outputs": [],
   "source": [
    "class ZZ_X_Z_circuit:\n",
    "    def __init__(self, size: int, layer: int, device_name=\"default.qubit\", config=None, theta=None):\n",
    "        self.size = size\n",
    "        self.n_qubits = 2*self.size\n",
    "        self.layer = layer\n",
    "        self.config = config or self.default_config()\n",
    "        self.device = qml.device(device_name, wires=self.n_qubits)\n",
    "        self.n_params = self.count_n_params()\n",
    "        if theta is None:\n",
    "            self.theta = np.random.rand(self.n_params)\n",
    "        else:\n",
    "            self.thet = theta\n",
    "        self.qnode = qml.QNode(self.circuit, self.device, interface=\"auto\")  # torch or auto\n",
    "\n",
    "    def default_config(self):\n",
    "        class CFG:\n",
    "            extra_ancilla = True\n",
    "            do_ancilla_1q_gates = True\n",
    "            ancilla_topology = \"total\"  # \"total\", \"bridge\", or \"ansatz\"\n",
    "            ancilla_connect_to = None\n",
    "        return CFG()\n",
    "\n",
    "    def count_n_params(self):\n",
    "        n_params = 0\n",
    "        base_size = self.size - 1 if self.config.extra_ancilla else self.size\n",
    "\n",
    "        # 1-qubit RX and RZ\n",
    "        n_params += self.size * 2\n",
    "\n",
    "        if self.config.extra_ancilla and self.config.do_ancilla_1q_gates:\n",
    "            n_params += 2  # for ancilla\n",
    "\n",
    "        # 2-qubit ZZ between neighbors\n",
    "        n_params += base_size - 1\n",
    "\n",
    "        if self.config.extra_ancilla:\n",
    "            if self.config.ancilla_topology == \"total\":\n",
    "                n_params += base_size\n",
    "            if self.config.ancilla_topology == \"bridge\":\n",
    "                n_params += 1\n",
    "            if self.config.ancilla_topology in [\"bridge\", \"ansatz\"]:\n",
    "                n_params += 1\n",
    "\n",
    "        return n_params * self.layer\n",
    "\n",
    "    def circuit(self, theta, initial_state):\n",
    "        qml.StatePrep(initial_state, wires=range(self.n_qubits))\n",
    "        shift = self.size\n",
    "        base_size = self.size - 1 if self.config.extra_ancilla else self.size\n",
    "\n",
    "        idx = 0\n",
    "        for _ in range(self.layer):\n",
    "            for i in range(base_size):\n",
    "                qml.RX(theta[idx], wires=shift + i)\n",
    "                idx += 1\n",
    "                qml.RZ(theta[idx], wires=shift + i)\n",
    "                idx += 1\n",
    "\n",
    "            if self.config.extra_ancilla and self.config.do_ancilla_1q_gates:\n",
    "                qml.RX(theta[idx], wires=shift + base_size)\n",
    "                idx += 1\n",
    "                qml.RZ(theta[idx], wires=shift + base_size)\n",
    "                idx += 1\n",
    "\n",
    "            for i in range(base_size - 1):\n",
    "                qml.IsingZZ(-theta[idx], wires=[shift + i, shift + i + 1])\n",
    "                idx += 1\n",
    "\n",
    "            if self.config.extra_ancilla:\n",
    "                if self.config.ancilla_topology == \"total\":\n",
    "                    for i in range(base_size):\n",
    "                        qml.IsingZZ(-theta[idx], wires=[shift + i, shift + base_size])\n",
    "                        idx += 1\n",
    "                if self.config.ancilla_topology == \"bridge\":\n",
    "                    qml.IsingZZ(-theta[idx], wires=[shift + 0, shift + base_size])\n",
    "                    idx += 1\n",
    "                if self.config.ancilla_topology in [\"bridge\", \"ansatz\"]:\n",
    "                    target = self.config.ancilla_connect_to or base_size - 1\n",
    "                    qml.IsingZZ(-theta[idx], wires=[shift + target, shift + base_size])\n",
    "                    idx += 1\n",
    "        return qml.state()\n",
    "\n",
    "    def run(self, initial_state, theta=None):\n",
    "        theta = theta if theta is not None else self.theta\n",
    "        return self.qnode(theta, initial_state)\n"
   ]
  },
  {
   "cell_type": "code",
   "execution_count": 38,
   "id": "17890869",
   "metadata": {},
   "outputs": [],
   "source": [
    "# Define a maximally entangled 4-qubit state for testing\n",
    "size = CFG.system_size\n",
    "layers = CFG.gen_layers\n",
    "initial_state = create_ghz_state_vector(2*size)"
   ]
  },
  {
   "cell_type": "markdown",
   "id": "ad13ab78",
   "metadata": {},
   "source": [
    "- Original"
   ]
  },
  {
   "cell_type": "code",
   "execution_count": 42,
   "id": "d9f5bdb4",
   "metadata": {},
   "outputs": [
    {
     "name": "stdout",
     "output_type": "stream",
     "text": [
      "[ 0.0685313 -0.34711976j -0.35721845+0.05507039j -0.25105373+0.02285729j\n",
      " -0.13886547+0.17681256j -0.08822043-0.19973464j -0.16476612+0.15255817j\n",
      " -0.13503137-0.01598725j -0.08754461+0.07632217j  0.        +0.j\n",
      "  0.        +0.j          0.        +0.j          0.        +0.j\n",
      "  0.        +0.j          0.        +0.j          0.        +0.j\n",
      "  0.        +0.j          0.        +0.j          0.        +0.j\n",
      "  0.        +0.j          0.        +0.j          0.        +0.j\n",
      "  0.        +0.j          0.        +0.j          0.        +0.j\n",
      "  0.        +0.j          0.        +0.j          0.        +0.j\n",
      "  0.        +0.j          0.        +0.j          0.        +0.j\n",
      "  0.        +0.j          0.        +0.j          0.        +0.j\n",
      "  0.        +0.j          0.        +0.j          0.        +0.j\n",
      "  0.        +0.j          0.        +0.j          0.        +0.j\n",
      "  0.        +0.j          0.        +0.j          0.        +0.j\n",
      "  0.        +0.j          0.        +0.j          0.        +0.j\n",
      "  0.        +0.j          0.        +0.j          0.        +0.j\n",
      "  0.        +0.j          0.        +0.j          0.        +0.j\n",
      "  0.        +0.j          0.        +0.j          0.        +0.j\n",
      "  0.        +0.j          0.        +0.j          0.04549369+0.06015293j\n",
      " -0.02708222+0.04391319j -0.15841609-0.13983809j  0.24029063+0.01404528j\n",
      " -0.09004952-0.03614898j -0.01520307-0.05649448j  0.21017031+0.34964235j\n",
      " -0.42758851-0.16422922j]\n"
     ]
    }
   ],
   "source": [
    "ansatz = Ansatz_ZZ_X_Z(config=CFG)\n",
    "np.random.seed(42)\n",
    "theta = np.random.rand(ansatz.n_params)\n",
    "circuit = ansatz.construct_qcircuit_ZZ_X_Z(theta=theta).get_mat_rep()\n",
    "mat = np.kron(Identity(size), circuit)\n",
    "state = np.asarray(mat @ initial_state)[0]\n",
    "print(state)"
   ]
  },
  {
   "cell_type": "markdown",
   "id": "34ddf558",
   "metadata": {},
   "source": [
    "- Pennylane"
   ]
  },
  {
   "cell_type": "code",
   "execution_count": 36,
   "id": "d567f4c2",
   "metadata": {},
   "outputs": [
    {
     "name": "stdout",
     "output_type": "stream",
     "text": [
      "[ 0.0685313 -0.34711976j -0.35721845+0.05507039j -0.25105373+0.02285729j\n",
      " -0.13886547+0.17681256j -0.08822043-0.19973464j -0.16476612+0.15255817j\n",
      " -0.13503137-0.01598725j -0.08754461+0.07632217j  0.        +0.j\n",
      "  0.        +0.j          0.        +0.j          0.        +0.j\n",
      "  0.        +0.j          0.        +0.j          0.        +0.j\n",
      "  0.        +0.j          0.        +0.j          0.        +0.j\n",
      "  0.        +0.j          0.        +0.j          0.        +0.j\n",
      "  0.        +0.j          0.        +0.j          0.        +0.j\n",
      "  0.        +0.j          0.        +0.j          0.        +0.j\n",
      "  0.        +0.j          0.        +0.j          0.        +0.j\n",
      "  0.        +0.j          0.        +0.j          0.        +0.j\n",
      "  0.        +0.j          0.        +0.j          0.        +0.j\n",
      "  0.        +0.j          0.        +0.j          0.        +0.j\n",
      "  0.        +0.j          0.        +0.j          0.        +0.j\n",
      "  0.        +0.j          0.        +0.j          0.        +0.j\n",
      "  0.        +0.j          0.        +0.j          0.        +0.j\n",
      "  0.        +0.j          0.        +0.j          0.        +0.j\n",
      "  0.        +0.j          0.        +0.j          0.        +0.j\n",
      "  0.        +0.j          0.        +0.j          0.04549369+0.06015293j\n",
      " -0.02708222+0.04391319j -0.15841609-0.13983809j  0.24029063+0.01404528j\n",
      " -0.09004952-0.03614898j -0.01520307-0.05649448j  0.21017031+0.34964235j\n",
      " -0.42758851-0.16422922j]\n"
     ]
    }
   ],
   "source": [
    "# Define a maximally entangled 4-qubit state for testing\n",
    "size = CFG.system_size\n",
    "layers = CFG.gen_layers\n",
    "\n",
    "model = ZZ_X_Z_circuit(size=size, layer=layers, config=CFG)\n",
    "out_state = model.run(initial_state, theta=theta)\n",
    "print(out_state)"
   ]
  },
  {
   "cell_type": "code",
   "execution_count": 44,
   "id": "91e1b3d5",
   "metadata": {},
   "outputs": [
    {
     "name": "stdout",
     "output_type": "stream",
     "text": [
      "Pennylane == original is True\n"
     ]
    }
   ],
   "source": [
    "print('Pennylane == original is', np.allclose(state, out_state))"
   ]
  },
  {
   "cell_type": "markdown",
   "id": "97479ca6",
   "metadata": {},
   "source": [
    "## 2. XX_YY_ZZ_Z circuit"
   ]
  },
  {
   "cell_type": "code",
   "execution_count": 19,
   "id": "3674600b",
   "metadata": {},
   "outputs": [],
   "source": [
    "class XX_YY_ZZ_circuit:\n",
    "    def __init__(self, size: int, layer: int, device_name=\"default.qubit\", config=None, theta=None):\n",
    "        self.size = size\n",
    "        self.n_qubits = self.size\n",
    "        self.layer = layer\n",
    "        self.config = config or self.default_config()\n",
    "        self.device = qml.device(device_name, wires=self.n_qubits)\n",
    "        self.n_params = self.count_n_params()\n",
    "        if theta is None:\n",
    "            self.theta = np.random.rand(self.n_params)\n",
    "        else:\n",
    "            self.thet = theta\n",
    "        self.qnode = qml.QNode(self.circuit, self.device, interface=\"auto\")  # torch or auto\n",
    "\n",
    "    def default_config(self):\n",
    "        class CFG:\n",
    "            extra_ancilla = True\n",
    "            do_ancilla_1q_gates = True\n",
    "            ancilla_topology = \"total\"  # \"total\", \"bridge\", or \"ansatz\"\n",
    "            ancilla_connect_to = None\n",
    "        return CFG()\n",
    "\n",
    "    def count_n_params(self):\n",
    "        n_params = 0\n",
    "        size = self.size\n",
    "        if self.config.extra_ancilla:\n",
    "            size -= 1\n",
    "\n",
    "        entg_list = [\"XX\", \"YY\", \"ZZ\"]\n",
    "        for _ in range(self.layer):\n",
    "            # First 1 qubit gates\n",
    "            for i in range(size):\n",
    "                n_params += 1\n",
    "            # Ancilla 1q gates for: total, bridge and disconnected:\n",
    "            if self.config.extra_ancilla and self.config.do_ancilla_1q_gates:\n",
    "                n_params += 1\n",
    "\n",
    "            # Then 2 qubit gates:\n",
    "            for i, gate in itertools.product(range(size - 1), entg_list):\n",
    "                n_params += 1\n",
    "            # Ancilla ancilla coupling (2q) logic for: total and bridge\n",
    "            if self.config.extra_ancilla:\n",
    "                if self.config.ancilla_topology == \"total\":\n",
    "                    for i, gate in itertools.product(range(size), entg_list):\n",
    "                        n_params += 1\n",
    "                if self.config.ancilla_topology == \"bridge\":\n",
    "                    for gate in entg_list:\n",
    "                        n_params += 1\n",
    "                if self.config.ancilla_topology in [\"bridge\", \"ansatz\"]:\n",
    "                    qubit_to_connect_to = self.config.ancilla_connect_to if self.config.ancilla_connect_to is not None else size - 1\n",
    "                    for gate in entg_list:\n",
    "                        n_params += 1\n",
    "\n",
    "        return n_params     \n",
    "\n",
    "\n",
    "    def circuit(self, theta, initial_state):\n",
    "        qml.StatePrep(initial_state, wires=range(self.n_qubits))\n",
    "        size = self.size - 1 if self.config.extra_ancilla else self.size\n",
    "\n",
    "        idx = 0\n",
    "        entg_list = [\"XX\", \"YY\", \"ZZ\"]\n",
    "        for _ in range(self.layer):\n",
    "            # First 1 qubit gates\n",
    "            for i in range(size):\n",
    "                qml.RZ(theta[idx], wires=i)\n",
    "                idx += 1\n",
    "            # Ancilla 1q gates for: total, bridge and disconnected:\n",
    "            if self.config.extra_ancilla and self.config.do_ancilla_1q_gates:\n",
    "                qml.RZ(theta[idx], wires=size)\n",
    "                idx += 1\n",
    "\n",
    "            # Then 2 qubit gates:\n",
    "            for i, gate in itertools.product(range(size - 1), entg_list):\n",
    "                if gate == \"XX\":\n",
    "                    qml.IsingXX(2*theta[idx], wires=[i, i+1])\n",
    "                    idx += 1\n",
    "                elif gate == \"YY\":\n",
    "                    qml.IsingYY(2*theta[idx], wires=[i, i+1])\n",
    "                    idx += 1\n",
    "                elif gate == \"ZZ\":\n",
    "                    qml.IsingZZ(-theta[idx], wires=[i, i+1])\n",
    "                    idx += 1\n",
    "            # Ancilla ancilla coupling (2q) logic for: total and bridge\n",
    "            if self.config.extra_ancilla:\n",
    "                if self.config.ancilla_topology == \"total\":\n",
    "                    for i, gate in itertools.product(range(size), entg_list):\n",
    "                        if gate == \"XX\":\n",
    "                            qml.IsingXX(2*theta[idx], wires=[i, size])\n",
    "                            idx += 1\n",
    "                        elif gate == \"YY\":\n",
    "                            qml.IsingYY(2*theta[idx], wires=[i, size])\n",
    "                            idx += 1\n",
    "                        elif gate == \"ZZ\":\n",
    "                            qml.IsingZZ(-theta[idx], wires=[i, size])\n",
    "                            idx += 1\n",
    "                if self.config.ancilla_topology == \"bridge\":\n",
    "                    for gate in entg_list:\n",
    "                        if gate == \"XX\":\n",
    "                            qml.IsingXX(2*theta[idx], wires=[0, size])\n",
    "                            idx += 1\n",
    "                        elif gate == \"YY\":\n",
    "                            qml.IsingYY(2*theta[idx], wires=[0, size])\n",
    "                            idx += 1\n",
    "                        elif gate == \"ZZ\":\n",
    "                            qml.IsingZZ(-theta[idx], wires=[0, size])\n",
    "                            idx += 1\n",
    "                if self.config.ancilla_topology in [\"bridge\", \"ansatz\"]:\n",
    "                    qubit_to_connect_to = self.config.ancilla_connect_to if self.config.ancilla_connect_to is not None else size - 1\n",
    "                    for gate in entg_list:\n",
    "                        if gate == \"XX\":\n",
    "                            qml.IsingXX(2*theta[idx], wires=[qubit_to_connect_to, size])\n",
    "                            idx += 1\n",
    "                        elif gate == \"YY\":\n",
    "                            qml.IsingYY(2*theta[idx], wires=[qubit_to_connect_to, size])\n",
    "                            idx += 1\n",
    "                        elif gate == \"ZZ\":\n",
    "                            qml.IsingZZ(-theta[idx], wires=[qubit_to_connect_to, size])\n",
    "                            idx += 1\n",
    "        return qml.state()\n",
    "\n",
    "    def run(self, initial_state, theta=None):\n",
    "        theta = theta if theta is not None else self.theta\n",
    "        return self.qnode(theta, initial_state)\n"
   ]
  },
  {
   "cell_type": "markdown",
   "id": "4d19bda7",
   "metadata": {},
   "source": [
    "- Original"
   ]
  },
  {
   "cell_type": "code",
   "execution_count": 20,
   "id": "e40cd54c",
   "metadata": {},
   "outputs": [
    {
     "name": "stdout",
     "output_type": "stream",
     "text": [
      "[-0.12152705-0.23213299j  0.25830286-0.31722023j  0.02568269-0.42378534j\n",
      "  0.18436363+0.31909662j -0.06586466+0.0745767j  -0.02465748+0.36681981j\n",
      " -0.19248911-0.35116381j -0.29843596-0.23115683j]\n"
     ]
    }
   ],
   "source": [
    "ansatz = Ansatz_XX_YY_ZZ_Z(config=CFG)\n",
    "np.random.seed(42)\n",
    "theta = np.random.rand(ansatz.n_params)\n",
    "circuit = ansatz.construct_qcircuit_XX_YY_ZZ_Z(theta=theta).get_mat_rep()\n",
    "state = np.asarray(circuit @ initial_state)[0]\n",
    "print(state)"
   ]
  },
  {
   "cell_type": "markdown",
   "id": "9fba1436",
   "metadata": {},
   "source": [
    "- Pennylane"
   ]
  },
  {
   "cell_type": "code",
   "execution_count": 21,
   "id": "1228083d",
   "metadata": {},
   "outputs": [
    {
     "name": "stdout",
     "output_type": "stream",
     "text": [
      "[-0.12152705-0.23213299j  0.25830286-0.31722023j  0.02568269-0.42378534j\n",
      "  0.18436363+0.31909662j -0.06586466+0.0745767j  -0.02465748+0.36681981j\n",
      " -0.19248911-0.35116381j -0.29843596-0.23115683j]\n"
     ]
    }
   ],
   "source": [
    "# Define a maximally entangled 4-qubit state for testing\n",
    "size = CFG.system_size\n",
    "layers = CFG.gen_layers\n",
    "\n",
    "model = XX_YY_ZZ_circuit(size=size, layer=layers, config=CFG)\n",
    "out_state = model.run(initial_state, theta=theta)\n",
    "print(out_state)"
   ]
  },
  {
   "cell_type": "code",
   "execution_count": 23,
   "id": "bcdd3f45",
   "metadata": {},
   "outputs": [
    {
     "name": "stdout",
     "output_type": "stream",
     "text": [
      "Pennylane == original is True\n"
     ]
    }
   ],
   "source": [
    "print('Pennylane == original is', np.allclose(state, out_state))"
   ]
  }
 ],
 "metadata": {
  "kernelspec": {
   "display_name": "qgan",
   "language": "python",
   "name": "python3"
  },
  "language_info": {
   "codemirror_mode": {
    "name": "ipython",
    "version": 3
   },
   "file_extension": ".py",
   "mimetype": "text/x-python",
   "name": "python",
   "nbconvert_exporter": "python",
   "pygments_lexer": "ipython3",
   "version": "3.13.5"
  }
 },
 "nbformat": 4,
 "nbformat_minor": 5
}
