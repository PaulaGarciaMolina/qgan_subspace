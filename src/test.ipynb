{
 "cells": [
  {
   "cell_type": "code",
   "execution_count": 1,
   "id": "5d261955",
   "metadata": {},
   "outputs": [
    {
     "name": "stdout",
     "output_type": "stream",
     "text": [
      "CPU device selected.\n",
      "Running in SINGLE RUN mode.\n",
      "\n",
      "\n",
      "================================================== \n",
      "run_timestamp: 2025-07-25__12-41-03,\n",
      "----------------------------------------------\n",
      "load_timestamp: None,\n",
      "type_of_warm_start: none,\n",
      "warm_start_strength: 0.1,\n",
      "----------------------------------------------\n",
      "system_size: 2,\n",
      "extra_ancilla: False,\n",
      "ancilla_mode: pass,\n",
      "ancilla_project_norm: re-norm,\n",
      "ancilla_topology: bridge,\n",
      "ancilla_connect_to: None,\n",
      "do_ancilla_1q_gates: False,\n",
      "start_ancilla_gates_randomly: False,\n",
      "----------------------------------------------\n",
      "gen_layers: 1,\n",
      "gen_ansatz: XX_YY_ZZ_Z,\n",
      "----------------------------------------------\n",
      "target_hamiltonian: custom_h,\n",
      "custom_hamiltonian_terms: ['ZZZ', 'ZZ', 'XX', 'XZ'],\n",
      "custom_hamiltonian_strengths: [1.0, 0.1, 0.1, 0.1],\n",
      "----------------------------------------------\n",
      "epochs: 1,\n",
      "iterations_epoch: 200,\n",
      "log_every_x_iter: 10,\n",
      "save_fid_and_loss_every_x_iter: 1,\n",
      "max_fidelity: 0.99,\n",
      "steps_gen: 1,\n",
      "steps_dis: 1,\n",
      "----------------------------------------------\n",
      "l_rate: 0.01,\n",
      "momentum_coeff: 0.9,\n",
      "================================================== \n",
      "\n",
      "\n",
      "Epoch:    1 | Iter:    1 | Fidelity: 0.029099 | Loss: -3.788086\n",
      "\n",
      "Epoch:    1 | Iter:   11 | Fidelity: 0.013369 | Loss: -3.417081\n",
      "\n",
      "Epoch:    1 | Iter:   21 | Fidelity: 0.026755 | Loss: -2.993053\n",
      "\n",
      "Epoch:    1 | Iter:   31 | Fidelity: 0.134600 | Loss: -2.520269\n",
      "\n",
      "Epoch:    1 | Iter:   41 | Fidelity: 0.387155 | Loss: -1.971282\n",
      "\n",
      "Epoch:    1 | Iter:   51 | Fidelity: 0.250261 | Loss: -0.520984\n",
      "\n",
      "Epoch:    1 | Iter:   61 | Fidelity: 0.150005 | Loss: -0.038325\n",
      "\n",
      "Epoch:    1 | Iter:   71 | Fidelity: 0.185507 | Loss: 0.238642\n",
      "\n",
      "Epoch:    1 | Iter:   81 | Fidelity: 0.288526 | Loss: 0.245670\n",
      "\n",
      "Epoch:    1 | Iter:   91 | Fidelity: 0.431595 | Loss: 0.197852\n",
      "\n",
      "Epoch:    1 | Iter:  101 | Fidelity: 0.569536 | Loss: 0.141169\n",
      "\n",
      "Epoch:    1 | Iter:  111 | Fidelity: 0.674640 | Loss: 0.100421\n",
      "\n",
      "Epoch:    1 | Iter:  121 | Fidelity: 0.758972 | Loss: 0.065631\n",
      "\n",
      "Epoch:    1 | Iter:  131 | Fidelity: 0.831556 | Loss: 0.034237\n",
      "\n",
      "Epoch:    1 | Iter:  141 | Fidelity: 0.889857 | Loss: 0.008775\n",
      "\n",
      "Epoch:    1 | Iter:  151 | Fidelity: 0.931270 | Loss: -0.009109\n",
      "\n",
      "Epoch:    1 | Iter:  161 | Fidelity: 0.957777 | Loss: -0.020009\n",
      "\n",
      "Epoch:    1 | Iter:  171 | Fidelity: 0.973432 | Loss: -0.025867\n",
      "\n",
      "Epoch:    1 | Iter:  181 | Fidelity: 0.982028 | Loss: -0.028190\n",
      "\n",
      "Epoch:    1 | Iter:  191 | Fidelity: 0.986440 | Loss: -0.028502\n",
      "\n",
      "Training finished after 1 epochs.\n",
      "\n",
      "Run took: 0:00:07.757144 time.\n",
      "Generator model saved to ./generated_data/2025-07-25__12-41-03/saved_model/model-gen(hs).pkl\n",
      "Discriminator model saved to ./generated_data/2025-07-25__12-41-03/saved_model/model-dis(hs).pkl\n",
      "\n",
      "Default configuration run COMPLETED SUCCESSFULLY.\n",
      "\n"
     ]
    }
   ],
   "source": [
    "from config import CFG\n",
    "import copy\n",
    "config = copy.deepcopy(CFG)\n",
    "\n",
    "config.run_multiple_experiments = False\n",
    "config.system_size = 2\n",
    "config.extra_ancilla = False\n",
    "config.epochs = 1\n",
    "config.iterations_epoch = 200\n",
    "config.gen_layers = 1\n",
    "config.gen_ansatz = \"XX_YY_ZZ_Z\"\n",
    "config.target_hamiltonian = \"custom_h\"\n",
    "config.custom_hamiltonian_terms = [\"ZZZ\", \"ZZ\", \"XX\", \"XZ\"]\n",
    "config.custom_hamiltonian_strengths = [1.0, 0.1, 0.1, 0.1]\n",
    "config.label_suffix = \"c1_2q_1l_noanc_XXYYZZZ_CustomH_ZZZ\"\n",
    "from tools.training_init import run_single_training\n",
    "run_single_training(config=config)"
   ]
  },
  {
   "cell_type": "code",
   "execution_count": 5,
   "id": "8162c7bb",
   "metadata": {},
   "outputs": [
    {
     "name": "stdout",
     "output_type": "stream",
     "text": [
      "Running in SINGLE RUN mode.\n",
      "\n"
     ]
    }
   ],
   "source": [
    "from tools.data.data_managers import get_last_experiment_idx, print_and_log, print_and_log_with_headers\n",
    "\n",
    "print_and_log(\"Running in SINGLE RUN mode.\\n\", config.log_path)"
   ]
  },
  {
   "cell_type": "code",
   "execution_count": null,
   "id": "ed865ad9",
   "metadata": {},
   "outputs": [],
   "source": []
  }
 ],
 "metadata": {
  "kernelspec": {
   "display_name": "qgan",
   "language": "python",
   "name": "python3"
  },
  "language_info": {
   "codemirror_mode": {
    "name": "ipython",
    "version": 3
   },
   "file_extension": ".py",
   "mimetype": "text/x-python",
   "name": "python",
   "nbconvert_exporter": "python",
   "pygments_lexer": "ipython3",
   "version": "3.13.5"
  }
 },
 "nbformat": 4,
 "nbformat_minor": 5
}
