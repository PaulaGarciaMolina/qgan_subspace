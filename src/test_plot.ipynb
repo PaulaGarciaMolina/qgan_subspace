{
 "cells": [
  {
   "cell_type": "markdown",
   "id": "2a19ccf1",
   "metadata": {},
   "source": [
    "# Performance analysis\n",
    "\n",
    "Let us study the performance of the new version of the code, considering fidelity, loss and runtime. In this study we choose the default configuration `CFG`, observing the effect of modifying the system size and the use of an extra ancilla."
   ]
  },
  {
   "cell_type": "code",
   "execution_count": 2,
   "id": "6b72745a",
   "metadata": {},
   "outputs": [],
   "source": [
    "import pickle\n",
    "%matplotlib inline\n",
    "import matplotlib.pyplot as plt"
   ]
  },
  {
   "cell_type": "code",
   "execution_count": null,
   "id": "87345775",
   "metadata": {},
   "outputs": [],
   "source": [
    "results = {}\n",
    "iters = 10\n",
    "sizes = [2, 3, 4, 5]\n",
    "\n",
    "for size in sizes:\n",
    "    for ancilla in [False, True]:\n",
    "        for i in range(iters):\n",
    "            name = f'qgan_size{size}_ancilla{ancilla}_iter{i}.pkl'\n",
    "            with open(name, 'rb') as f:\n",
    "                loaded_data = pickle.load(f)\n",
    "\n",
    "            # Store results in a nested dictionary structure\n",
    "            results.setdefault(size, {}).setdefault(ancilla, {})[i] = loaded_data"
   ]
  },
  {
   "cell_type": "code",
   "execution_count": null,
   "id": "875a2547",
   "metadata": {},
   "outputs": [],
   "source": [
    "results = {}\n",
    "iters = 10\n",
    "sizes = [2, 3, 4, 5]\n",
    "\n",
    "for size in sizes:\n",
    "    for ancilla in [False, True]:\n",
    "        for i in range(iters):\n",
    "            name = f'qgan_size{size}_ancilla{ancilla}_iter{i}.pkl'\n",
    "            with open(name, 'rb') as f:\n",
    "                loaded_data = pickle.load(f)\n",
    "\n",
    "            # Store results in a nested dictionary structure\n",
    "            results.setdefault(size, {}).setdefault(ancilla, {})[i] = loaded_data"
   ]
  },
  {
   "cell_type": "code",
   "execution_count": null,
   "id": "b1a3ed2d",
   "metadata": {},
   "outputs": [
    {
     "data": {
      "image/png": "[encoded data removed]",
      "text/plain": [
       "<Figure size 640x480 with 1 Axes>"
      ]
     },
     "metadata": {},
     "output_type": "display_data"
    }
   ],
   "source": [
    "for size in results:\n",
    "    for ancilla in results[size]:\n",
    "        fig, axs = plt.subplots(3, 1, figsize=(10, 12), sharex=True)\n",
    "        fig.suptitle(f\"System Size {size} | Ancilla: {ancilla}\", fontsize=16)\n",
    "\n",
    "        for i, run in results[size][ancilla].items():\n",
    "            axs[0].plot(run.fidelities, label=f'Run {i}')\n",
    "            axs[1].plot(run.losses, label=f'Run {i}')\n",
    "            axs[2].plot(run.runtimes, label=f'Run {i}')\n",
    "\n",
    "        axs[0].set_ylabel('Fidelity')\n",
    "        axs[1].set_ylabel('Loss')\n",
    "        axs[2].set_ylabel('Runtime (s)')\n",
    "        axs[2].set_xlabel('Iteration')\n",
    "\n",
    "        for ax in axs:\n",
    "            ax.grid(True)\n",
    "            ax.legend()\n",
    "\n",
    "        plt.tight_layout(rect=[0, 0, 1, 0.96])\n",
    "        plt.show()\n"
   ]
  },
  {
   "cell_type": "code",
   "execution_count": 9,
   "id": "3933e85c",
   "metadata": {},
   "outputs": [
    {
     "data": {
      "text/plain": [
       "array([ 1.4306726,  2.5974397,  3.7213281,  4.8728396,  6.3817249,\n",
       "        8.4652438,  8.5853693,  8.7120699,  8.8458487,  8.972637 ,\n",
       "        9.1208133,  9.2592555,  9.4057611,  9.5353016,  9.6605882,\n",
       "        9.7789006,  9.912407 , 10.0629071, 10.1913958, 10.3250491,\n",
       "       10.4591706, 10.5899513, 10.7329663, 10.8667074, 11.0014781,\n",
       "       11.1488783, 11.2844134, 11.4222908, 11.546158 , 11.6731133,\n",
       "       11.8056874, 11.9528707, 12.0738008, 12.1903926, 12.3139394,\n",
       "       12.4413123, 12.5594911, 12.6828196, 12.8098427, 12.9476975,\n",
       "       13.0880304, 13.2073299, 13.3436978, 13.4806145, 13.6107801,\n",
       "       13.7399492, 13.8785518, 14.0247439, 14.1667957, 14.3096641,\n",
       "       14.4783642, 14.6101852, 14.7486423, 14.8816276, 15.0111306,\n",
       "       15.1339338, 15.2654992, 15.4001958, 15.5241652, 15.6569441,\n",
       "       15.7830619, 15.9169438, 16.0451687, 16.1751527, 16.3072281,\n",
       "       16.4640021, 16.6062609, 16.7365906, 16.8649659, 16.9873122,\n",
       "       17.1235107, 17.249568 , 17.3992693, 17.5258518, 17.6598932,\n",
       "       17.7952756, 17.9234254, 18.0539561, 18.2017157, 18.3399894,\n",
       "       18.4812303, 18.6007601, 18.7337573, 18.8626676, 18.9854873,\n",
       "       19.1162391, 19.2448405, 19.3692742, 19.4865592, 19.6206927,\n",
       "       19.7376116, 19.852906 , 19.9737895, 20.1054518, 20.2549855,\n",
       "       20.3768617, 20.5105633, 20.6424997, 20.7702009, 20.8941319,\n",
       "       21.0319786, 21.1773879, 21.3060539, 21.4364914, 21.5655778,\n",
       "       21.7028441, 21.831582 , 21.9811234, 22.1013265, 22.2329903,\n",
       "       22.3695382, 22.489655 , 22.6178075, 22.7432461, 22.8797678,\n",
       "       23.0130727, 23.1638123, 23.284079 , 23.4278456, 23.5590879,\n",
       "       23.7037188, 23.8367364, 23.9748468, 24.1029132, 24.2348666,\n",
       "       24.3620871, 24.4879164, 24.6358712, 24.7748784, 24.9093669,\n",
       "       25.0362185, 25.1659095, 25.3006665, 25.4458101, 25.5800591,\n",
       "       25.6974474, 25.8228994, 25.9659813, 26.1044866, 26.2274053,\n",
       "       26.3737643, 26.4984974, 26.6263334, 26.7473579, 26.8694815,\n",
       "       27.0107767, 27.1420331, 27.2720916, 27.4180072, 27.5613716,\n",
       "       27.689846 , 27.8042123, 27.9279049, 28.0458117, 28.172288 ,\n",
       "       28.331549 , 28.459224 , 28.6123179, 28.7596367, 28.9083396,\n",
       "       29.0386094, 29.1795135, 29.3065304, 29.449801 , 29.5873466,\n",
       "       29.7234091, 29.879426 , 30.0258233, 30.165361 , 30.3082589,\n",
       "       30.4393153, 30.5838974, 30.7421132, 30.8797801, 31.0060897,\n",
       "       31.1409553, 31.2715266, 31.4043108, 31.5358797, 31.6689608,\n",
       "       31.8122979, 31.9463123, 32.0817392, 32.2102347, 32.3411432,\n",
       "       32.4797375, 32.6091731, 32.7494937, 32.9011509, 33.033341 ,\n",
       "       33.1679731, 33.2950661, 33.4122337, 33.5471569, 33.6716196,\n",
       "       33.8192782, 33.9337629, 34.0805637, 34.1990938, 34.33151  ])"
      ]
     },
     "execution_count": 9,
     "metadata": {},
     "output_type": "execute_result"
    }
   ],
   "source": [
    "import numpy as np\n",
    "np.cumsum(loaded_data.runtimes)"
   ]
  },
  {
   "cell_type": "code",
   "execution_count": null,
   "id": "b335d970",
   "metadata": {},
   "outputs": [],
   "source": []
  }
 ],
 "metadata": {
  "kernelspec": {
   "display_name": "qgan",
   "language": "python",
   "name": "python3"
  },
  "language_info": {
   "codemirror_mode": {
    "name": "ipython",
    "version": 3
   },
   "file_extension": ".py",
   "mimetype": "text/x-python",
   "name": "python",
   "nbconvert_exporter": "python",
   "pygments_lexer": "ipython3",
   "version": "3.13.5"
  }
 },
 "nbformat": 4,
 "nbformat_minor": 5
}
