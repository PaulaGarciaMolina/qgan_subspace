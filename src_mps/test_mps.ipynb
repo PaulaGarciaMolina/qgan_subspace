{
 "cells": [
  {
   "cell_type": "code",
   "execution_count": 1,
   "id": "bfe0ec6c",
   "metadata": {},
   "outputs": [
    {
     "name": "stdout",
     "output_type": "stream",
     "text": [
      "tensor([0.1171, 0.8760, 0.4644, 0.7956, 0.7782, 0.3334, 0.5310, 0.0073])\n",
      "tensor([0.1171, 0.8760, 0.4644, 0.7956, 0.7782, 0.3334, 0.5310, 0.0073])\n"
     ]
    }
   ],
   "source": [
    "from seemps.state import MPS\n",
    "import torch\n",
    "\n",
    "n = 3\n",
    "N = 2**n\n",
    "v = torch.rand(N)\n",
    "v_mps = MPS.from_vector(v, [2]*n, normalize=False)\n",
    "\n",
    "print(v)\n",
    "print(v_mps.to_vector())"
   ]
  },
  {
   "cell_type": "code",
   "execution_count": 2,
   "id": "8c684fef",
   "metadata": {},
   "outputs": [
    {
     "name": "stdout",
     "output_type": "stream",
     "text": [
      "tensor([0.4374+0.8461j, 0.7180+0.7931j, 0.8691+0.7630j, 0.4358+0.7467j,\n",
      "        0.8764+0.5144j, 0.4689+0.2281j, 0.6172+0.9755j, 0.7818+0.8571j,\n",
      "        0.3599+0.4794j, 0.1468+0.0906j, 0.1499+0.3426j, 0.3434+0.9103j,\n",
      "        0.8442+0.6833j, 0.3862+0.4584j, 0.3463+0.4100j, 0.9084+0.0181j,\n",
      "        0.7613+0.2427j, 0.4962+0.7860j, 0.0532+0.0171j, 0.6890+0.8659j,\n",
      "        0.4040+0.6046j, 0.2528+0.0181j, 0.3049+0.3731j, 0.9533+0.0288j,\n",
      "        0.5205+0.9575j, 0.3895+0.9914j, 0.4225+0.1174j, 0.4539+0.3395j,\n",
      "        0.9426+0.5799j, 0.7081+0.5067j, 0.4595+0.1947j, 0.5193+0.4055j])\n",
      "tensor([0.4374+0.8461j, 0.7180+0.7931j, 0.8691+0.7630j, 0.4358+0.7467j,\n",
      "        0.8764+0.5144j, 0.4689+0.2281j, 0.6172+0.9755j, 0.7818+0.8571j,\n",
      "        0.3599+0.4794j, 0.1468+0.0906j, 0.1499+0.3426j, 0.3434+0.9103j,\n",
      "        0.8442+0.6833j, 0.3862+0.4584j, 0.3463+0.4100j, 0.9084+0.0181j,\n",
      "        0.7613+0.2427j, 0.4962+0.7860j, 0.0532+0.0171j, 0.6890+0.8659j,\n",
      "        0.4040+0.6046j, 0.2528+0.0181j, 0.3049+0.3731j, 0.9533+0.0288j,\n",
      "        0.5205+0.9575j, 0.3895+0.9914j, 0.4225+0.1174j, 0.4539+0.3395j,\n",
      "        0.9426+0.5799j, 0.7081+0.5067j, 0.4595+0.1947j, 0.5193+0.4055j])\n",
      "Initial state is equal is True\n",
      "tensor([ 1.8363+8.0296j,  1.4300+7.8724j,  0.3517+8.2783j, -0.2369+6.3081j,\n",
      "         3.4492+6.6817j,  2.0235+3.8378j, -0.8844+7.3954j, -0.7372+3.8838j,\n",
      "         0.7114+5.2916j,  1.1573+3.2765j, -1.0366+3.7467j, -1.2921+3.5090j,\n",
      "         1.6148+6.3565j,  1.3210+2.5815j, -1.0794+3.3119j, -1.3674+3.5210j,\n",
      "         3.9977+4.2981j,  1.3784+4.8735j, -0.0465+2.0458j, -0.7929+3.5532j,\n",
      "         0.8075+3.6230j,  1.1149+1.1078j, -0.3213+1.1988j, -0.3870+1.8930j,\n",
      "         0.6642+6.9794j, -0.3918+5.1161j, -0.0678+2.1330j, -1.9596+1.9820j,\n",
      "         0.8904+4.1700j,  0.2726+2.6977j, -0.5664+2.8215j, -1.4877+2.7782j])\n",
      "tensor([ 1.8363+8.0296j,  1.4300+7.8724j,  0.3517+8.2783j, -0.2369+6.3081j,\n",
      "         3.4492+6.6817j,  2.0235+3.8379j, -0.8844+7.3954j, -0.7372+3.8838j,\n",
      "         0.7114+5.2917j,  1.1573+3.2765j, -1.0366+3.7467j, -1.2921+3.5090j,\n",
      "         1.6148+6.3565j,  1.3210+2.5815j, -1.0794+3.3119j, -1.3674+3.5210j,\n",
      "         3.9977+4.2981j,  1.3784+4.8735j, -0.0465+2.0458j, -0.7929+3.5532j,\n",
      "         0.8075+3.6230j,  1.1149+1.1078j, -0.3213+1.1988j, -0.3870+1.8930j,\n",
      "         0.6643+6.9794j, -0.3918+5.1161j, -0.0678+2.1330j, -1.9596+1.9820j,\n",
      "         0.8904+4.1700j,  0.2726+2.6977j, -0.5664+2.8215j, -1.4877+2.7782j])\n",
      "Final state is equal is True\n"
     ]
    }
   ],
   "source": [
    "import torch\n",
    "from seemps.state import MPS \n",
    "from seemps.operators import MPO, MPOSum, MPOList\n",
    "from seemps.truncate.simplify_mpo import simplify_mpo\n",
    "from seemps.truncate.simplify import SIMPLIFICATION_STRATEGY\n",
    "\n",
    "strategy = SIMPLIFICATION_STRATEGY.replace(normalize=False)\n",
    "\n",
    "I = torch.eye(2, dtype=torch.cfloat)\n",
    "X = torch.tensor([[0, 1], [1, 0]], dtype=torch.cfloat)\n",
    "Y = torch.tensor([[0, -1j], [1j, 0]], dtype=torch.cfloat)\n",
    "Z = torch.tensor([[1, 0], [0, -1]], dtype=torch.cfloat)\n",
    "\n",
    "def kron_all(op_list):\n",
    "    result = op_list[0]\n",
    "    for op in op_list[1:]:\n",
    "        result = torch.kron(result, op)\n",
    "    return result\n",
    "    \n",
    "def lift_to_full(op, site, size, I):\n",
    "    ops = [I] * size\n",
    "    ops[site] = op\n",
    "    return kron_all(ops)\n",
    "\n",
    "def op_to_tensor_list(op, site, size, I):\n",
    "    ops = [I.reshape(1,2,2,1)] * size\n",
    "    ops[site] = op.reshape(1,2,2,1)\n",
    "    return ops\n",
    "\n",
    "def forward(size):\n",
    "    I = torch.eye(2, dtype=torch.complex64)\n",
    "    X = torch.tensor([[0, 1], [1, 0]], dtype=torch.complex64)\n",
    "    Y = torch.tensor([[0, -1j], [1j, 0]], dtype=torch.complex64)\n",
    "    Z = torch.tensor([[1, 0], [0, -1]], dtype=torch.complex64)\n",
    "    herm = [I, X, Y, Z]\n",
    "    \n",
    "    alpha = torch.rand(size, len(herm), dtype=torch.complex64)  # real coefficients\n",
    "    \n",
    "    psi_terms = []\n",
    "    psi_tensors = []\n",
    "    mpos = []\n",
    "    mpos_exp = []\n",
    "    \n",
    "    for i in range(size):\n",
    "        # Local operator on site i\n",
    "        psi_i = sum(alpha[i, j] * herm[j] for j in range(len(herm)))\n",
    "        \n",
    "        # Lift to full Hilbert space\n",
    "        psi_lift = lift_to_full(psi_i, i, size, I)\n",
    "        \n",
    "        # Exponential of psi_i using torch.linalg.matrix_exp\n",
    "        psi_exp = torch.linalg.matrix_exp(psi_i)\n",
    "        \n",
    "        mpos.append(MPO(op_to_tensor_list(psi_i, i, size, I)))\n",
    "        mpos_exp.append(MPO(op_to_tensor_list(psi_exp, i, size, I)))\n",
    "        psi_terms.append(psi_lift)\n",
    "        psi_tensors.append(psi_i.reshape(1,2,2,1))\n",
    "    \n",
    "    return sum(psi_terms), MPOSum(mpos).join(), MPOList(mpos_exp).join()\n",
    "\n",
    "n = 5\n",
    "N = 2**n\n",
    "v = torch.rand(N, dtype=torch.complex64)\n",
    "v_mps = MPS.from_vector(v.numpy(), [2]*n, normalize=False)  # if MPS requires numpy, convert here\n",
    "print(v)\n",
    "print(v_mps.to_vector())\n",
    "print('Initial state is equal is', torch.allclose(v, v_mps.to_vector()))\n",
    "M, M_mpo, M_exp_mpo = forward(n)\n",
    "M_mpo = simplify_mpo(M_mpo, strategy=strategy)\n",
    "r1 = M @ v\n",
    "r2 = M_mpo @ v_mps\n",
    "print(r1)\n",
    "print(r2.to_vector())\n",
    "print('Final state is equal is', torch.allclose(r1, r2.to_vector()))\n"
   ]
  },
  {
   "cell_type": "code",
   "execution_count": 1,
   "id": "1d4c092d",
   "metadata": {},
   "outputs": [
    {
     "name": "stdout",
     "output_type": "stream",
     "text": [
      "Complex SVD safe: SUCCESS!\n"
     ]
    }
   ],
   "source": [
    "import torch\n",
    "\n",
    "# Example: why it works\n",
    "complex_matrix = torch.randn(4, 4, dtype=torch.complex64, requires_grad=True)\n",
    "\n",
    "# Your original approach - FAILS\n",
    "try:\n",
    "    U, S, V = torch.svd(complex_matrix)\n",
    "    loss = (S**2).sum()\n",
    "    loss.backward()  # This crashes!\n",
    "except RuntimeError as e:\n",
    "    print(f\"Original fails: {e}\")\n",
    "\n",
    "# Our approach - WORKS\n",
    "def complex_svd_safe(matrix):\n",
    "    real_part = matrix.real\n",
    "    imag_part = matrix.imag\n",
    "    \n",
    "    # Block matrix construction\n",
    "    top = torch.cat([real_part, -imag_part], dim=-1)\n",
    "    bottom = torch.cat([imag_part, real_part], dim=-1)\n",
    "    real_matrix = torch.cat([top, bottom], dim=-2)\n",
    "    \n",
    "    # SVD on real matrix (gradients work!)\n",
    "    U_real, S_real, V_real = torch.svd(real_matrix)\n",
    "    \n",
    "    # Reconstruct complex results\n",
    "    m, n = matrix.shape[-2:]\n",
    "    U_top = U_real[..., :m, :n]\n",
    "    U_bottom = U_real[..., m:, :n]\n",
    "    U_complex = U_top + 1j * U_bottom\n",
    "    \n",
    "    V_left = V_real[..., :n, :n]\n",
    "    V_right = V_real[..., n:, :n]\n",
    "    V_complex = V_left + 1j * V_right\n",
    "    \n",
    "    return U_complex, S_real[..., :n], V_complex.conj().transpose(-2, -1)\n",
    "\n",
    "# This works!\n",
    "U, S, V = complex_svd_safe(complex_matrix)\n",
    "loss = (S**2).sum()\n",
    "loss.backward()  # No error!\n",
    "print(\"Complex SVD safe: SUCCESS!\")"
   ]
  },
  {
   "cell_type": "code",
   "execution_count": null,
   "id": "6e3efe89",
   "metadata": {},
   "outputs": [],
   "source": [
    "M_mpo = simplify_mpo(M_mpo, strategy=strategy)\n",
    "print([m.shape for m in M_mpo])\n",
    "M_exp_mpo = simplify_mpo(M_exp_mpo, strategy=strategy)\n",
    "print([m.shape for m in M_exp_mpo])\n",
    "\n",
    "r1 = M @ v\n",
    "r2 = M_mpo @ v_mps\n",
    "print(torch.allclose(r1, torch.tensor(r2.to_vector())))\n",
    "\n",
    "M_exp = torch.linalg.matrix_exp(M)\n",
    "r1 = M_exp @ v\n",
    "r2 = M_exp_mpo @ v_mps\n",
    "print(torch.allclose(r1, torch.tensor(r2.to_vector())))\n"
   ]
  },
  {
   "cell_type": "code",
   "execution_count": 89,
   "id": "62f38b9e",
   "metadata": {},
   "outputs": [
    {
     "name": "stdout",
     "output_type": "stream",
     "text": [
      "Original state is True\n",
      "[(1, 2, 2, 2), (2, 2, 2, 1)]\n",
      "[(1, 2, 2, 1), (1, 2, 2, 1)]\n"
     ]
    },
    {
     "ename": "TypeError",
     "evalue": "unsupported operand type(s) for @: 'numpy.ndarray' and 'Tensor'",
     "output_type": "error",
     "traceback": [
      "\u001b[31m---------------------------------------------------------------------------\u001b[39m",
      "\u001b[31mTypeError\u001b[39m                                 Traceback (most recent call last)",
      "\u001b[36mCell\u001b[39m\u001b[36m \u001b[39m\u001b[32mIn[89]\u001b[39m\u001b[32m, line 79\u001b[39m\n\u001b[32m     77\u001b[39m M_exp_mpo = simplify_mpo(M_exp_mpo, strategy=strategy)\n\u001b[32m     78\u001b[39m \u001b[38;5;28mprint\u001b[39m([m.shape \u001b[38;5;28;01mfor\u001b[39;00m m \u001b[38;5;129;01min\u001b[39;00m M_exp_mpo])\n\u001b[32m---> \u001b[39m\u001b[32m79\u001b[39m r1 = \u001b[43mM\u001b[49m\u001b[43m \u001b[49m\u001b[43m@\u001b[49m\u001b[43m \u001b[49m\u001b[43mv\u001b[49m\n\u001b[32m     80\u001b[39m r2 = M_mpo @ v_mps\n\u001b[32m     81\u001b[39m \u001b[38;5;28mprint\u001b[39m(np.allclose(r1,r2.to_vector()))\n",
      "\u001b[31mTypeError\u001b[39m: unsupported operand type(s) for @: 'numpy.ndarray' and 'Tensor'"
     ]
    }
   ],
   "source": [
    "import torch\n",
    "import numpy as np \n",
    "from seemps.state import MPS \n",
    "from seemps.operators import MPO, MPOSum, MPOList\n",
    "from seemps.truncate.simplify_mpo import simplify_mpo\n",
    "from seemps.truncate.simplify import SIMPLIFICATION_STRATEGY\n",
    "import scipy\n",
    "\n",
    "strategy = SIMPLIFICATION_STRATEGY.replace(normalize=False)\n",
    "\n",
    "I = torch.tensor([[1, 0],[0, 1]])\n",
    "X = torch.tensor([[0, 1],[1, 0]])\n",
    "Y = torch.tensor([[0, -1j],[1j, 0]])\n",
    "Z = torch.tensor([[1, 0],[0, -1]])\n",
    "import tensorkrowch as tk\n",
    "def input_to_mps(x, dims):\n",
    "    mps_tensors = tk.decompositions.vec_to_mps(x.reshape(*dims),\n",
    "                                                   n_batches=0,\n",
    "                                                   cum_percentage=1,\n",
    "                                                   renormalize=False)\n",
    "    x_tk = tk.models.MPSData(n_features=len(dims),\n",
    "                                            phys_dim=dims,\n",
    "                                            bond_dim=1,\n",
    "                                            n_batches=0,\n",
    "                                            boundary='obc')\n",
    "    x_tk.add_data(mps_tensors)\n",
    "    return x_tk\n",
    "def kron_all(op_list):\n",
    "    result = op_list[0]\n",
    "    for op in op_list[1:]:\n",
    "        result = np.kron(result, op)\n",
    "    return result\n",
    "    \n",
    "def lift_to_full(op, site, size, I):\n",
    "    ops = [I] * size\n",
    "    ops[site] = op\n",
    "    return kron_all(ops)\n",
    "\n",
    "def op_to_tensor_list(op, site, size, I):\n",
    "    ops = [I.reshape(1,2,2,1)] * size\n",
    "    ops[site] = op.reshape(1,2,2,1)\n",
    "    return ops\n",
    "def forward(size):\n",
    "    \"\"\"\n",
    "    Constructs the psi and phi matrices from the alpha and beta parameters.\n",
    "    This defines the forward pass of the discriminator model.\n",
    "    \"\"\"\n",
    "    herm = [I,X,Y,Z]\n",
    "    alpha = torch.rand(size, len(herm))\n",
    "\n",
    "    # Build lifted local ops and sum them\n",
    "    psi_terms = []\n",
    "    psi_tensors = []\n",
    "    mpos = []\n",
    "    mpos_exp = []\n",
    "    for i in range(size):\n",
    "        # Local operator on site i\n",
    "        psi_i = sum(alpha[i, j] * herm[j] for j in range(len(herm)))\n",
    "\n",
    "        # Lift to full Hilbert space\n",
    "        psi_lift = lift_to_full(psi_i, i, size, I)\n",
    "        tensor_list = mpo_seemps_to_tk(op_to_tensor_list(psi_i, i, size, I))\n",
    "        mpos.append(MPO(op_to_tensor_list(psi_i, i, size, I)))\n",
    "        mpos_exp.append(MPO(op_to_tensor_list(scipy.linalg.expm(psi_i), i, size, I)))\n",
    "        psi_terms.append(psi_lift)\n",
    "        psi_tensors.append(psi_i.reshape(1,2,2,1))\n",
    "    return sum(psi_terms), MPOSum(mpos).join(), MPOList(mpos_exp).join()\n",
    "n = 2\n",
    "N = 2**n\n",
    "v = torch.rand(N)\n",
    "v_tk = input_to_mps(v, dims=[2]*n)\n",
    "print('Original state is', torch.allclose(v, mps2vector(v_tk)))\n",
    "\n",
    "v_mps = MPS.from_vector(v, [2]*n, normalize=False)\n",
    "M, M_mpo, M_exp_mpo = forward(n)\n",
    "print([m.shape for m in M_mpo])\n",
    "M_exp_mpo = simplify_mpo(M_exp_mpo, strategy=strategy)\n",
    "print([m.shape for m in M_exp_mpo])\n",
    "r1 = M @ v\n",
    "r2 = M_mpo @ v_mps\n",
    "print(np.allclose(r1,r2.to_vector()))\n",
    "M_exp = scipy.linalg.expm(M)\n",
    "r1 = M_exp @ v\n",
    "r2 = M_exp_mpo @ v_mps\n",
    "print(np.allclose(r1,r2.to_vector()))\n",
    "\n",
    "\n",
    "n = 2\n",
    "N = 2**n\n",
    "v = np.random.rand(N)\n",
    "v_tk = input_to_mps(torch.from_numpy(v), dims=[2]*n)\n",
    "print(v)\n",
    "print(mps2vector(v_tk).numpy())"
   ]
  },
  {
   "cell_type": "code",
   "execution_count": 83,
   "id": "3ad79977",
   "metadata": {},
   "outputs": [],
   "source": [
    "import tensorkrowch as tk\n",
    "def input_to_mps(x, dims):\n",
    "    mps_tensors = tk.decompositions.vec_to_mps(x.reshape(*dims),\n",
    "                                                   n_batches=0,\n",
    "                                                   cum_percentage=1,\n",
    "                                                   renormalize=False)\n",
    "    x_tk = tk.models.MPSData(n_features=len(dims),\n",
    "                                            phys_dim=dims,\n",
    "                                            bond_dim=1,\n",
    "                                            n_batches=0,\n",
    "                                            boundary='obc')\n",
    "    x_tk.add_data(mps_tensors)\n",
    "    return x_tk"
   ]
  },
  {
   "cell_type": "code",
   "execution_count": 67,
   "id": "c00295ab",
   "metadata": {},
   "outputs": [
    {
     "name": "stdout",
     "output_type": "stream",
     "text": [
      "(1905.6496927363687-1905.6496927363685j) (1905.6496927363883-1905.6496927363883j)\n"
     ]
    }
   ],
   "source": [
    "from seemps.state import scprod\n",
    "\n",
    "print(scprod((r2+1j*r2).join(),r2), np.vdot(r1+1j*r1,r1))"
   ]
  },
  {
   "cell_type": "code",
   "execution_count": 58,
   "id": "e99f068b",
   "metadata": {},
   "outputs": [
    {
     "name": "stdout",
     "output_type": "stream",
     "text": [
      "[(1, 2, 2, 2), (2, 2, 2, 1)]\n",
      "[(1, 2, 2, 1), (1, 2, 2, 1)]\n",
      "True\n",
      "True\n"
     ]
    }
   ],
   "source": [
    "n = 2\n",
    "N = 2**n\n",
    "v = np.random.rand(N)\n",
    "v_mps = MPS.from_vector(v, [2]*n, normalize=False)\n",
    "M, M_mpo, M_exp_mpo = forward(n)\n",
    "M_mpo = simplify_mpo(M_mpo, strategy=strategy)\n",
    "print([m.shape for m in M_mpo])\n",
    "M_exp_mpo = simplify_mpo(M_exp_mpo, strategy=strategy)\n",
    "print([m.shape for m in M_exp_mpo])\n",
    "r1 = M @ v\n",
    "r2 = M_mpo @ v_mps\n",
    "print(np.allclose(r1,r2.to_vector()))\n",
    "M_exp = scipy.linalg.expm(M)\n",
    "r1 = M_exp @ v\n",
    "r2 = M_exp_mpo @ v_mps\n",
    "print(np.allclose(r1,r2.to_vector()))"
   ]
  },
  {
   "cell_type": "code",
   "execution_count": 59,
   "id": "357119cd",
   "metadata": {},
   "outputs": [
    {
     "name": "stdout",
     "output_type": "stream",
     "text": [
      "[9.02198101-1.6398981j  5.30899805+1.58449381j 4.34645306+0.08948784j\n",
      " 2.23216227+1.22174247j]\n",
      "[9.02198101-1.6398981j  5.30899805+1.58449381j 4.34645306+0.08948784j\n",
      " 2.23216227+1.22174247j]\n"
     ]
    }
   ],
   "source": [
    "print(r1)\n",
    "print(r2.to_vector())"
   ]
  },
  {
   "cell_type": "code",
   "execution_count": 68,
   "id": "1d98cd97",
   "metadata": {},
   "outputs": [
    {
     "name": "stdout",
     "output_type": "stream",
     "text": [
      "[0.87783222 0.17682039 0.77328938 0.58367155]\n",
      "[0.87783222 0.17682039 0.77328938 0.58367155]\n"
     ]
    }
   ],
   "source": [
    "\n",
    "n = 2\n",
    "N = 2**n\n",
    "v = np.random.rand(N)\n",
    "op = np.kron(X, I)\n",
    "op_v = op @ v\n",
    "v_mps = MPS.from_vector(v, [2]*n, normalize=False)\n",
    "op_mpo = MPO([X.reshape(1,2,2,1), I.reshape(1,2,2,1)])\n",
    "op_v_mps = op_mpo @ v_mps\n",
    "print(op_v)\n",
    "print(op_v_mps.to_vector())"
   ]
  },
  {
   "cell_type": "code",
   "execution_count": 70,
   "id": "da0e43a5",
   "metadata": {},
   "outputs": [
    {
     "name": "stdout",
     "output_type": "stream",
     "text": [
      "[0.18738808 0.32541538 0.50923964 0.64179717]\n",
      "[0.18738808 0.32541538 0.50923964 0.64179717]\n"
     ]
    }
   ],
   "source": [
    "from mps import * \n",
    "n = 2\n",
    "N = 2**n\n",
    "v = np.random.rand(N)\n",
    "op = np.kron(X, I)\n",
    "op_v = op @ v\n",
    "v_mps = MPS.from_vector(v, [2]*n, normalize=False)\n",
    "op_mpo = MPO([X.reshape(1,2,2,1), I.reshape(1,2,2,1)])\n",
    "op_v_mps = op_mpo @ v_mps\n",
    "print(op_v)\n",
    "print(op_v_mps.to_vector())"
   ]
  },
  {
   "cell_type": "code",
   "execution_count": 5,
   "id": "9cdd54a7",
   "metadata": {},
   "outputs": [
    {
     "name": "stdout",
     "output_type": "stream",
     "text": [
      "[0.48533172 0.72145719 0.39140277 0.08542669]\n",
      "[0.48533172 0.72145719 0.39140277 0.08542669]\n"
     ]
    }
   ],
   "source": [
    "n = 2\n",
    "N = 2**n\n",
    "v = np.random.rand(N)\n",
    "op = np.kron(X, I)\n",
    "op_v = op @ v\n",
    "v_mps = MPS.from_vector(v, [2]*n, normalize=False)\n",
    "op_mpo = MPO([X.reshape(1,2,2,1), I.reshape(1,2,2,1)])\n",
    "op_v_mps = op_mpo @ v_mps\n",
    "print(op_v)\n",
    "print(op_v_mps.to_vector())"
   ]
  }
 ],
 "metadata": {
  "kernelspec": {
   "display_name": "qgan",
   "language": "python",
   "name": "python3"
  },
  "language_info": {
   "codemirror_mode": {
    "name": "ipython",
    "version": 3
   },
   "file_extension": ".py",
   "mimetype": "text/x-python",
   "name": "python",
   "nbconvert_exporter": "python",
   "pygments_lexer": "ipython3",
   "version": "3.13.5"
  }
 },
 "nbformat": 4,
 "nbformat_minor": 5
}
